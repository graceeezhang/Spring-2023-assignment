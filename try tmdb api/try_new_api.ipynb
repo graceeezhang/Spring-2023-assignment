{
  "nbformat": 4,
  "nbformat_minor": 0,
  "metadata": {
    "colab": {
      "provenance": []
    },
    "kernelspec": {
      "name": "python3",
      "display_name": "Python 3"
    },
    "language_info": {
      "name": "python"
    }
  },
  "cells": [
    {
      "cell_type": "code",
      "execution_count": 30,
      "metadata": {
        "id": "NcE7ORR0HtcU"
      },
      "outputs": [],
      "source": [
        "api_key = '0f0f87f51dbba10af0d7a68a80b9404d'"
      ]
    },
    {
      "cell_type": "code",
      "source": [
        "import requests"
      ],
      "metadata": {
        "id": "3McFr__jH79j"
      },
      "execution_count": 31,
      "outputs": []
    },
    {
      "cell_type": "code",
      "source": [
        "movie = 'M3GAN'"
      ],
      "metadata": {
        "id": "6pMt6zmzI00t"
      },
      "execution_count": 32,
      "outputs": []
    },
    {
      "cell_type": "code",
      "source": [
        "movie = 'M3GAN'\n",
        "url = f'https://api.themoviedb.org/3/search/movie?api_key={api_key}&query={movie}'\n",
        "r = requests.get(url)\n",
        "r.json()"
      ],
      "metadata": {
        "id": "PLYAQfSAMple"
      },
      "execution_count": 37,
      "outputs": []
    },
    {
      "cell_type": "code",
      "source": [
        "r"
      ],
      "metadata": {
        "colab": {
          "base_uri": "https://localhost:8080/"
        },
        "id": "K0z-HO2RKKom",
        "outputId": "4af2bf48-f692-4c31-9fbe-2122179b6942"
      },
      "execution_count": 39,
      "outputs": [
        {
          "output_type": "execute_result",
          "data": {
            "text/plain": [
              "<Response [200]>"
            ]
          },
          "metadata": {},
          "execution_count": 39
        }
      ]
    },
    {
      "cell_type": "code",
      "source": [
        "r.json()"
      ],
      "metadata": {
        "colab": {
          "base_uri": "https://localhost:8080/"
        },
        "id": "PuNOzlcGKMog",
        "outputId": "7b547ed3-6d68-49a9-9145-113b448a31c3"
      },
      "execution_count": 41,
      "outputs": [
        {
          "output_type": "execute_result",
          "data": {
            "text/plain": [
              "{'page': 1,\n",
              " 'results': [{'adult': False,\n",
              "   'backdrop_path': '/dlrWhn0G3AtxYUx2D9P2bmzcsvF.jpg',\n",
              "   'genre_ids': [878, 27, 35],\n",
              "   'id': 536554,\n",
              "   'original_language': 'en',\n",
              "   'original_title': 'M3GAN',\n",
              "   'overview': \"A brilliant toy company roboticist uses artificial intelligence to develop M3GAN, a life-like doll programmed to emotionally bond with her newly orphaned niece. But when the doll's programming works too well, she becomes overprotective of her new friend with terrifying results.\",\n",
              "   'popularity': 378.289,\n",
              "   'poster_path': '/d9nBoowhjiiYc4FBNtQkPY7c11H.jpg',\n",
              "   'release_date': '2022-12-28',\n",
              "   'title': 'M3GAN',\n",
              "   'video': False,\n",
              "   'vote_average': 7.352,\n",
              "   'vote_count': 2593},\n",
              "  {'adult': False,\n",
              "   'backdrop_path': None,\n",
              "   'genre_ids': [878, 27, 35],\n",
              "   'id': 1071585,\n",
              "   'original_language': 'en',\n",
              "   'original_title': 'M3GAN 2.0',\n",
              "   'overview': '',\n",
              "   'popularity': 6.418,\n",
              "   'poster_path': '/knr9wCLYT8zAsROasCOT42na7uQ.jpg',\n",
              "   'release_date': '2025-01-17',\n",
              "   'title': 'M3GAN 2.0',\n",
              "   'video': False,\n",
              "   'vote_average': 0.0,\n",
              "   'vote_count': 0}],\n",
              " 'total_pages': 1,\n",
              " 'total_results': 2}"
            ]
          },
          "metadata": {},
          "execution_count": 41
        }
      ]
    },
    {
      "cell_type": "code",
      "source": [
        "data = r.json()"
      ],
      "metadata": {
        "id": "uTugx8xeNy8f"
      },
      "execution_count": 42,
      "outputs": []
    },
    {
      "cell_type": "code",
      "source": [
        "for movie in data['results']:\n",
        "  print(movie['overview'])"
      ],
      "metadata": {
        "colab": {
          "base_uri": "https://localhost:8080/"
        },
        "id": "39Hfsul5N248",
        "outputId": "16827837-f85e-4fb1-b7c6-fdebb94b30a9"
      },
      "execution_count": 47,
      "outputs": [
        {
          "output_type": "stream",
          "name": "stdout",
          "text": [
            "A brilliant toy company roboticist uses artificial intelligence to develop M3GAN, a life-like doll programmed to emotionally bond with her newly orphaned niece. But when the doll's programming works too well, she becomes overprotective of her new friend with terrifying results.\n",
            "\n"
          ]
        }
      ]
    }
  ]
}